{
  "metadata": {
    "kernelspec": {
      "name": "python",
      "display_name": "Python (Pyodide)",
      "language": "python"
    },
    "language_info": {
      "codemirror_mode": {
        "name": "python",
        "version": 3
      },
      "file_extension": ".py",
      "mimetype": "text/x-python",
      "name": "python",
      "nbconvert_exporter": "python",
      "pygments_lexer": "ipython3",
      "version": "3.8"
    }
  },
  "nbformat_minor": 5,
  "nbformat": 4,
  "cells": [
    {
      "id": "4ac31a09-0a9b-47fe-833e-aa63c7d067c7",
      "cell_type": "markdown",
      "source": "# Data Science Tools and Ecosystem",
      "metadata": {}
    },
    {
      "id": "4ef1ebe7-c8bb-4ca8-9859-fb0601dbd595",
      "cell_type": "markdown",
      "source": "In this notebook, DataScience Tools and Ecosystem are summarized",
      "metadata": {}
    },
    {
      "id": "7d0770a7-62f6-4108-acc5-c8d9025cee6d",
      "cell_type": "markdown",
      "source": "Some of the popular languages that Data Scientist use are:\n1. Python\n2. R\n3. C#",
      "metadata": {}
    },
    {
      "id": "1f39b618-f059-4fff-ada9-82d085fbe2f5",
      "cell_type": "markdown",
      "source": "Some of the commonly used libraries used by Data Scientist include:\n1. ggplot\n2. pandas\n3. matplotlib",
      "metadata": {}
    },
    {
      "id": "b498607b-29b0-4244-aa76-6d35619553c6",
      "cell_type": "markdown",
      "source": "|Data Science Tools|\n|---|\n|Jupyter Notebook|\n|Watson Studio|\n|RStudio|\n",
      "metadata": {}
    },
    {
      "id": "70f4eeba-6b8a-4d65-9a95-a4021c79d0ea",
      "cell_type": "markdown",
      "source": "### Below are a few examples of evaluating arithmetic expressions in Python",
      "metadata": {}
    },
    {
      "id": "7424ad3b-adc0-41df-8f8c-4d4650de376c",
      "cell_type": "code",
      "source": "# This is a simple arithmetic expression to multiply then add integers\n(3*4)+5",
      "metadata": {
        "trusted": true
      },
      "outputs": [
        {
          "execution_count": 2,
          "output_type": "execute_result",
          "data": {
            "text/plain": "17"
          },
          "metadata": {}
        }
      ],
      "execution_count": 2
    },
    {
      "id": "bf6b2c23-4e6e-48e1-8496-96183432437c",
      "cell_type": "code",
      "source": "# This will convert 200 minutes to hours by dividing by 60\n200/60",
      "metadata": {
        "trusted": true
      },
      "outputs": [
        {
          "execution_count": 1,
          "output_type": "execute_result",
          "data": {
            "text/plain": "3.3333333333333335"
          },
          "metadata": {}
        }
      ],
      "execution_count": 1
    },
    {
      "id": "d884d013-e651-4cae-b382-5bbb2662342c",
      "cell_type": "markdown",
      "source": "**Objectives:**\n* Create a h1 title\n* List popular languages for Data Science\n* List popular libraries used for Data Science\n* Create a table\n* Execute code cells with arithmetic expressions",
      "metadata": {}
    },
    {
      "id": "0a9a4a9d-3c14-49d5-97ed-3feda5629bdd",
      "cell_type": "markdown",
      "source": "## Author\nMoises Calleja",
      "metadata": {}
    },
    {
      "id": "8f886f67-4ab5-453a-9a2b-af226291b1c5",
      "cell_type": "code",
      "source": "",
      "metadata": {
        "trusted": true
      },
      "outputs": [],
      "execution_count": null
    }
  ]
}